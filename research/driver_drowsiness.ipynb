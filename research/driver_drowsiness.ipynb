{
  "metadata": {
    "kernelspec": {
      "display_name": "Python 3",
      "name": "python3"
    },
    "language_info": {
      "pygments_lexer": "ipython3",
      "nbconvert_exporter": "python",
      "version": "3.6.4",
      "file_extension": ".py",
      "codemirror_mode": {
        "name": "ipython",
        "version": 3
      },
      "name": "python",
      "mimetype": "text/x-python"
    },
    "colab": {
      "provenance": [],
      "gpuType": "T4"
    },
    "accelerator": "GPU"
  },
  "nbformat_minor": 0,
  "nbformat": 4,
  "cells": [
    {
      "cell_type": "code",
      "source": [
        "import os\n",
        "from keras.preprocessing import image\n",
        "import matplotlib.pyplot as plt\n",
        "import numpy as np\n",
        "import random,shutil\n",
        "\n",
        "from keras.models import Sequential\n",
        "from keras.layers import Dropout,Conv2D,Flatten,Dense, MaxPooling2D, BatchNormalization\n",
        "from keras.models import load_model"
      ],
      "metadata": {
        "id": "kX4xdXcY0yxg"
      },
      "execution_count": 1,
      "outputs": []
    },
    {
      "cell_type": "code",
      "source": [
        "from google.colab import drive\n",
        "drive.mount('/content/drive')"
      ],
      "metadata": {
        "colab": {
          "base_uri": "https://localhost:8080/"
        },
        "id": "SkLNZJe67MPd",
        "outputId": "4ba23480-99f4-4588-83a4-7f2d5d92b655"
      },
      "execution_count": 2,
      "outputs": [
        {
          "output_type": "stream",
          "name": "stdout",
          "text": [
            "Drive already mounted at /content/drive; to attempt to forcibly remount, call drive.mount(\"/content/drive\", force_remount=True).\n"
          ]
        }
      ]
    },
    {
      "cell_type": "code",
      "source": [
        "train_data = \"/content/drive/MyDrive/Colab Notebooks/Driver's_Drowsiness_Detection_Collab/data/train/\"\n",
        "test_data = \"/content/drive/MyDrive/Colab Notebooks/Driver's_Drowsiness_Detection_Collab/data/test/\""
      ],
      "metadata": {
        "papermill": {
          "duration": 0.019326,
          "end_time": "2023-05-18T14:17:51.602560",
          "exception": false,
          "start_time": "2023-05-18T14:17:51.583234",
          "status": "completed"
        },
        "tags": [],
        "execution": {
          "iopub.status.busy": "2023-05-22T18:20:03.799856Z",
          "iopub.execute_input": "2023-05-22T18:20:03.800238Z",
          "iopub.status.idle": "2023-05-22T18:20:03.805102Z",
          "shell.execute_reply.started": "2023-05-22T18:20:03.800203Z",
          "shell.execute_reply": "2023-05-22T18:20:03.803903Z"
        },
        "trusted": true,
        "id": "N2C90O770Hha"
      },
      "execution_count": 3,
      "outputs": []
    },
    {
      "cell_type": "code",
      "source": [
        "def generator(dir, gen=image.ImageDataGenerator(rescale=1./255), shuffle=True,batch_size=1,target_size=(140,140),class_mode='categorical' ):\n",
        "    return gen.flow_from_directory(dir,batch_size=batch_size,shuffle=shuffle,color_mode='grayscale',class_mode=class_mode,target_size=target_size)\n"
      ],
      "metadata": {
        "id": "7_VBGXZe23mD"
      },
      "execution_count": 4,
      "outputs": []
    },
    {
      "cell_type": "code",
      "source": [
        "BS= 32\n",
        "TS=(24,24)\n",
        "train_batch= generator(train_data,shuffle=True, batch_size=BS,target_size=TS)\n",
        "valid_batch= generator(test_data,shuffle=True, batch_size=BS,target_size=TS)\n",
        "SPE= len(train_batch.classes)//BS\n",
        "VS = len(valid_batch.classes)//BS\n",
        "print(SPE,VS)"
      ],
      "metadata": {
        "colab": {
          "base_uri": "https://localhost:8080/"
        },
        "id": "u7DBGsKw7duZ",
        "outputId": "86d4c7a0-1ab5-4c98-de34-cb2139ab7352"
      },
      "execution_count": 5,
      "outputs": [
        {
          "output_type": "stream",
          "name": "stdout",
          "text": [
            "Found 1234 images belonging to 2 classes.\n",
            "Found 218 images belonging to 2 classes.\n",
            "38 6\n"
          ]
        }
      ]
    },
    {
      "cell_type": "code",
      "source": [
        "model = Sequential([\n",
        "    Conv2D(32, kernel_size=(3, 3), activation='relu', input_shape=(24,24,1)),\n",
        "    MaxPooling2D(pool_size=(1,1)),\n",
        "    Conv2D(32,(3,3),activation='relu'),\n",
        "    MaxPooling2D(pool_size=(1,1)),\n",
        "    Conv2D(64, (3, 3), activation='relu'),\n",
        "    MaxPooling2D(pool_size=(1,1)),\n",
        "    Dropout(0.25),\n",
        "    Flatten(),\n",
        "    Dense(128, activation='relu'),\n",
        "    Dropout(0.5),\n",
        "    Dense(2, activation='softmax')\n",
        "])"
      ],
      "metadata": {
        "id": "H0y1ujED7q21"
      },
      "execution_count": 6,
      "outputs": []
    },
    {
      "cell_type": "code",
      "source": [
        "from keras.callbacks import EarlyStopping, ReduceLROnPlateau, ModelCheckpoint"
      ],
      "metadata": {
        "id": "k4R9woalbFg3"
      },
      "execution_count": 7,
      "outputs": []
    },
    {
      "cell_type": "code",
      "source": [
        "early_stopping = EarlyStopping(monitor='val_accuracy',patience=20,mode='max',\n",
        "                                                        verbose=1,restore_best_weights=True)\n",
        "reduce_lr = ReduceLROnPlateau(monitor='val_accuracy',patience=5,mode='max',verbose=1,factor=0.1,min_lr=0.001)\n",
        "checkpoint_filename = 'checkpoint/'\n",
        "model_checkpoint = ModelCheckpoint(filepath=checkpoint_filename,\n",
        "                    monitor='val_accuracy',verbose=1,save_best_only=True,save_weights_only=True,mode='max')\n",
        "\n",
        "callbacks = [early_stopping, reduce_lr, model_checkpoint]"
      ],
      "metadata": {
        "id": "DVV2GVMvbGOR"
      },
      "execution_count": 8,
      "outputs": []
    },
    {
      "cell_type": "code",
      "source": [
        "model.compile(optimizer='adam',loss='categorical_crossentropy',metrics=['accuracy'])"
      ],
      "metadata": {
        "id": "-_ICbKGR8OkS"
      },
      "execution_count": 9,
      "outputs": []
    },
    {
      "cell_type": "code",
      "source": [
        "history = model.fit(train_batch, validation_data=valid_batch,epochs=50,steps_per_epoch=SPE ,validation_steps=VS, callbacks=callbacks)"
      ],
      "metadata": {
        "colab": {
          "base_uri": "https://localhost:8080/"
        },
        "id": "9-N4WCov8PsY",
        "outputId": "dbdabb48-91c0-4e75-d655-48e3b56470b0"
      },
      "execution_count": 10,
      "outputs": [
        {
          "output_type": "stream",
          "name": "stdout",
          "text": [
            "Epoch 1/50\n",
            "36/38 [===========================>..] - ETA: 0s - loss: 0.4787 - accuracy: 0.7583\n",
            "Epoch 1: val_accuracy improved from -inf to 0.91667, saving model to checkpoint/\n",
            "38/38 [==============================] - 17s 277ms/step - loss: 0.4679 - accuracy: 0.7654 - val_loss: 0.2049 - val_accuracy: 0.9167 - lr: 0.0010\n",
            "Epoch 2/50\n",
            "38/38 [==============================] - ETA: 0s - loss: 0.2812 - accuracy: 0.8952\n",
            "Epoch 2: val_accuracy improved from 0.91667 to 0.94792, saving model to checkpoint/\n",
            "38/38 [==============================] - 4s 114ms/step - loss: 0.2812 - accuracy: 0.8952 - val_loss: 0.1548 - val_accuracy: 0.9479 - lr: 0.0010\n",
            "Epoch 3/50\n",
            "38/38 [==============================] - ETA: 0s - loss: 0.1622 - accuracy: 0.9393\n",
            "Epoch 3: val_accuracy did not improve from 0.94792\n",
            "38/38 [==============================] - 5s 119ms/step - loss: 0.1622 - accuracy: 0.9393 - val_loss: 0.1331 - val_accuracy: 0.9375 - lr: 0.0010\n",
            "Epoch 4/50\n",
            "38/38 [==============================] - ETA: 0s - loss: 0.1211 - accuracy: 0.9551\n",
            "Epoch 4: val_accuracy did not improve from 0.94792\n",
            "38/38 [==============================] - 4s 112ms/step - loss: 0.1211 - accuracy: 0.9551 - val_loss: 0.1176 - val_accuracy: 0.9479 - lr: 0.0010\n",
            "Epoch 5/50\n",
            "38/38 [==============================] - ETA: 0s - loss: 0.0898 - accuracy: 0.9626\n",
            "Epoch 5: val_accuracy did not improve from 0.94792\n",
            "38/38 [==============================] - 4s 105ms/step - loss: 0.0898 - accuracy: 0.9626 - val_loss: 0.1708 - val_accuracy: 0.9375 - lr: 0.0010\n",
            "Epoch 6/50\n",
            "38/38 [==============================] - ETA: 0s - loss: 0.0840 - accuracy: 0.9659\n",
            "Epoch 6: val_accuracy improved from 0.94792 to 0.96875, saving model to checkpoint/\n",
            "38/38 [==============================] - 5s 139ms/step - loss: 0.0840 - accuracy: 0.9659 - val_loss: 0.1116 - val_accuracy: 0.9688 - lr: 0.0010\n",
            "Epoch 7/50\n",
            "38/38 [==============================] - ETA: 0s - loss: 0.0718 - accuracy: 0.9742\n",
            "Epoch 7: val_accuracy did not improve from 0.96875\n",
            "38/38 [==============================] - 4s 107ms/step - loss: 0.0718 - accuracy: 0.9742 - val_loss: 0.0952 - val_accuracy: 0.9635 - lr: 0.0010\n",
            "Epoch 8/50\n",
            "38/38 [==============================] - ETA: 0s - loss: 0.0687 - accuracy: 0.9759\n",
            "Epoch 8: val_accuracy did not improve from 0.96875\n",
            "38/38 [==============================] - 4s 105ms/step - loss: 0.0687 - accuracy: 0.9759 - val_loss: 0.0877 - val_accuracy: 0.9531 - lr: 0.0010\n",
            "Epoch 9/50\n",
            "38/38 [==============================] - ETA: 0s - loss: 0.0410 - accuracy: 0.9859\n",
            "Epoch 9: val_accuracy improved from 0.96875 to 0.97917, saving model to checkpoint/\n",
            "38/38 [==============================] - 5s 129ms/step - loss: 0.0410 - accuracy: 0.9859 - val_loss: 0.0752 - val_accuracy: 0.9792 - lr: 0.0010\n",
            "Epoch 10/50\n",
            "38/38 [==============================] - ETA: 0s - loss: 0.0305 - accuracy: 0.9892\n",
            "Epoch 10: val_accuracy did not improve from 0.97917\n",
            "38/38 [==============================] - 4s 111ms/step - loss: 0.0305 - accuracy: 0.9892 - val_loss: 0.1095 - val_accuracy: 0.9583 - lr: 0.0010\n",
            "Epoch 11/50\n",
            "38/38 [==============================] - ETA: 0s - loss: 0.0365 - accuracy: 0.9892\n",
            "Epoch 11: val_accuracy did not improve from 0.97917\n",
            "38/38 [==============================] - 4s 106ms/step - loss: 0.0365 - accuracy: 0.9892 - val_loss: 0.0881 - val_accuracy: 0.9740 - lr: 0.0010\n",
            "Epoch 12/50\n",
            "38/38 [==============================] - ETA: 0s - loss: 0.0270 - accuracy: 0.9892\n",
            "Epoch 12: val_accuracy did not improve from 0.97917\n",
            "38/38 [==============================] - 5s 126ms/step - loss: 0.0270 - accuracy: 0.9892 - val_loss: 0.0845 - val_accuracy: 0.9792 - lr: 0.0010\n",
            "Epoch 13/50\n",
            "38/38 [==============================] - ETA: 0s - loss: 0.0430 - accuracy: 0.9850\n",
            "Epoch 13: val_accuracy did not improve from 0.97917\n",
            "38/38 [==============================] - 4s 107ms/step - loss: 0.0430 - accuracy: 0.9850 - val_loss: 0.1055 - val_accuracy: 0.9688 - lr: 0.0010\n",
            "Epoch 14/50\n",
            "38/38 [==============================] - ETA: 0s - loss: 0.0167 - accuracy: 0.9951\n",
            "Epoch 14: val_accuracy did not improve from 0.97917\n",
            "38/38 [==============================] - 4s 109ms/step - loss: 0.0167 - accuracy: 0.9951 - val_loss: 0.0809 - val_accuracy: 0.9688 - lr: 0.0010\n",
            "Epoch 15/50\n",
            "38/38 [==============================] - ETA: 0s - loss: 0.0119 - accuracy: 0.9967\n",
            "Epoch 15: val_accuracy did not improve from 0.97917\n",
            "38/38 [==============================] - 5s 127ms/step - loss: 0.0119 - accuracy: 0.9967 - val_loss: 0.0709 - val_accuracy: 0.9792 - lr: 0.0010\n",
            "Epoch 16/50\n",
            "38/38 [==============================] - ETA: 0s - loss: 0.0089 - accuracy: 0.9992\n",
            "Epoch 16: val_accuracy improved from 0.97917 to 0.98958, saving model to checkpoint/\n",
            "38/38 [==============================] - 4s 111ms/step - loss: 0.0089 - accuracy: 0.9992 - val_loss: 0.0320 - val_accuracy: 0.9896 - lr: 0.0010\n",
            "Epoch 17/50\n",
            "38/38 [==============================] - ETA: 0s - loss: 0.0168 - accuracy: 0.9950\n",
            "Epoch 17: val_accuracy did not improve from 0.98958\n",
            "38/38 [==============================] - 4s 109ms/step - loss: 0.0168 - accuracy: 0.9950 - val_loss: 0.1241 - val_accuracy: 0.9583 - lr: 0.0010\n",
            "Epoch 18/50\n",
            "38/38 [==============================] - ETA: 0s - loss: 0.0106 - accuracy: 0.9967\n",
            "Epoch 18: val_accuracy did not improve from 0.98958\n",
            "38/38 [==============================] - 5s 127ms/step - loss: 0.0106 - accuracy: 0.9967 - val_loss: 0.0899 - val_accuracy: 0.9635 - lr: 0.0010\n",
            "Epoch 19/50\n",
            "38/38 [==============================] - ETA: 0s - loss: 0.0206 - accuracy: 0.9925\n",
            "Epoch 19: val_accuracy did not improve from 0.98958\n",
            "38/38 [==============================] - 5s 136ms/step - loss: 0.0206 - accuracy: 0.9925 - val_loss: 0.1016 - val_accuracy: 0.9740 - lr: 0.0010\n",
            "Epoch 20/50\n",
            "38/38 [==============================] - ETA: 0s - loss: 0.0098 - accuracy: 0.9975\n",
            "Epoch 20: val_accuracy did not improve from 0.98958\n",
            "38/38 [==============================] - 5s 121ms/step - loss: 0.0098 - accuracy: 0.9975 - val_loss: 0.0515 - val_accuracy: 0.9844 - lr: 0.0010\n",
            "Epoch 21/50\n",
            "38/38 [==============================] - ETA: 0s - loss: 0.0024 - accuracy: 1.0000\n",
            "Epoch 21: val_accuracy did not improve from 0.98958\n",
            "38/38 [==============================] - 4s 110ms/step - loss: 0.0024 - accuracy: 1.0000 - val_loss: 0.0732 - val_accuracy: 0.9740 - lr: 0.0010\n",
            "Epoch 22/50\n",
            "38/38 [==============================] - ETA: 0s - loss: 0.0095 - accuracy: 0.9975\n",
            "Epoch 22: val_accuracy did not improve from 0.98958\n",
            "38/38 [==============================] - 5s 131ms/step - loss: 0.0095 - accuracy: 0.9975 - val_loss: 0.0924 - val_accuracy: 0.9792 - lr: 0.0010\n",
            "Epoch 23/50\n",
            "38/38 [==============================] - ETA: 0s - loss: 0.0141 - accuracy: 0.9958\n",
            "Epoch 23: val_accuracy did not improve from 0.98958\n",
            "38/38 [==============================] - 4s 111ms/step - loss: 0.0141 - accuracy: 0.9958 - val_loss: 0.1087 - val_accuracy: 0.9792 - lr: 0.0010\n",
            "Epoch 24/50\n",
            "38/38 [==============================] - ETA: 0s - loss: 0.0036 - accuracy: 1.0000\n",
            "Epoch 24: val_accuracy did not improve from 0.98958\n",
            "38/38 [==============================] - 4s 107ms/step - loss: 0.0036 - accuracy: 1.0000 - val_loss: 0.0941 - val_accuracy: 0.9844 - lr: 0.0010\n",
            "Epoch 25/50\n",
            "38/38 [==============================] - ETA: 0s - loss: 0.0032 - accuracy: 1.0000\n",
            "Epoch 25: val_accuracy did not improve from 0.98958\n",
            "38/38 [==============================] - 5s 131ms/step - loss: 0.0032 - accuracy: 1.0000 - val_loss: 0.1180 - val_accuracy: 0.9688 - lr: 0.0010\n",
            "Epoch 26/50\n",
            "38/38 [==============================] - ETA: 0s - loss: 0.0059 - accuracy: 0.9975\n",
            "Epoch 26: val_accuracy did not improve from 0.98958\n",
            "38/38 [==============================] - 4s 112ms/step - loss: 0.0059 - accuracy: 0.9975 - val_loss: 0.0890 - val_accuracy: 0.9792 - lr: 0.0010\n",
            "Epoch 27/50\n",
            "38/38 [==============================] - ETA: 0s - loss: 0.0044 - accuracy: 0.9983\n",
            "Epoch 27: val_accuracy did not improve from 0.98958\n",
            "38/38 [==============================] - 4s 110ms/step - loss: 0.0044 - accuracy: 0.9983 - val_loss: 0.0815 - val_accuracy: 0.9740 - lr: 0.0010\n",
            "Epoch 28/50\n",
            "38/38 [==============================] - ETA: 0s - loss: 0.0172 - accuracy: 0.9942\n",
            "Epoch 28: val_accuracy did not improve from 0.98958\n",
            "38/38 [==============================] - 5s 137ms/step - loss: 0.0172 - accuracy: 0.9942 - val_loss: 0.0629 - val_accuracy: 0.9635 - lr: 0.0010\n",
            "Epoch 29/50\n",
            "38/38 [==============================] - ETA: 0s - loss: 0.0190 - accuracy: 0.9933\n",
            "Epoch 29: val_accuracy did not improve from 0.98958\n",
            "38/38 [==============================] - 4s 109ms/step - loss: 0.0190 - accuracy: 0.9933 - val_loss: 0.0553 - val_accuracy: 0.9792 - lr: 0.0010\n",
            "Epoch 30/50\n",
            "38/38 [==============================] - ETA: 0s - loss: 0.0196 - accuracy: 0.9942\n",
            "Epoch 30: val_accuracy did not improve from 0.98958\n",
            "38/38 [==============================] - 4s 106ms/step - loss: 0.0196 - accuracy: 0.9942 - val_loss: 0.1243 - val_accuracy: 0.9688 - lr: 0.0010\n",
            "Epoch 31/50\n",
            "38/38 [==============================] - ETA: 0s - loss: 0.0140 - accuracy: 0.9942\n",
            "Epoch 31: val_accuracy did not improve from 0.98958\n",
            "38/38 [==============================] - 5s 128ms/step - loss: 0.0140 - accuracy: 0.9942 - val_loss: 0.0872 - val_accuracy: 0.9635 - lr: 0.0010\n",
            "Epoch 32/50\n",
            "38/38 [==============================] - ETA: 0s - loss: 0.0056 - accuracy: 0.9992\n",
            "Epoch 32: val_accuracy did not improve from 0.98958\n",
            "38/38 [==============================] - 4s 109ms/step - loss: 0.0056 - accuracy: 0.9992 - val_loss: 0.0922 - val_accuracy: 0.9740 - lr: 0.0010\n",
            "Epoch 33/50\n",
            "38/38 [==============================] - ETA: 0s - loss: 0.0021 - accuracy: 0.9992\n",
            "Epoch 33: val_accuracy did not improve from 0.98958\n",
            "38/38 [==============================] - 4s 112ms/step - loss: 0.0021 - accuracy: 0.9992 - val_loss: 0.0757 - val_accuracy: 0.9740 - lr: 0.0010\n",
            "Epoch 34/50\n",
            "38/38 [==============================] - ETA: 0s - loss: 0.0010 - accuracy: 1.0000\n",
            "Epoch 34: val_accuracy did not improve from 0.98958\n",
            "38/38 [==============================] - 5s 120ms/step - loss: 0.0010 - accuracy: 1.0000 - val_loss: 0.0809 - val_accuracy: 0.9688 - lr: 0.0010\n",
            "Epoch 35/50\n",
            "38/38 [==============================] - ETA: 0s - loss: 8.2219e-04 - accuracy: 1.0000\n",
            "Epoch 35: val_accuracy did not improve from 0.98958\n",
            "38/38 [==============================] - 4s 109ms/step - loss: 8.2219e-04 - accuracy: 1.0000 - val_loss: 0.0767 - val_accuracy: 0.9792 - lr: 0.0010\n",
            "Epoch 36/50\n",
            "38/38 [==============================] - ETA: 0s - loss: 3.7441e-04 - accuracy: 1.0000Restoring model weights from the end of the best epoch: 16.\n",
            "\n",
            "Epoch 36: val_accuracy did not improve from 0.98958\n",
            "38/38 [==============================] - 5s 127ms/step - loss: 3.7441e-04 - accuracy: 1.0000 - val_loss: 0.0790 - val_accuracy: 0.9792 - lr: 0.0010\n",
            "Epoch 36: early stopping\n"
          ]
        }
      ]
    },
    {
      "cell_type": "code",
      "source": [
        "plt.figure(figsize=(12,8))\n",
        "plt.plot(history.history['accuracy'],'r',label='train accuracy')\n",
        "plt.plot(history.history['val_accuracy'],'b',label='test accuracy')\n",
        "plt.xlabel('Number of Epochs')\n",
        "plt.ylabel('Accuracy')\n",
        "plt.title('Accuracy Graph')\n",
        "plt.legend()"
      ],
      "metadata": {
        "colab": {
          "base_uri": "https://localhost:8080/",
          "height": 697
        },
        "id": "BlAlfANbXElI",
        "outputId": "0e040eab-618e-4463-c723-f6398412dc00"
      },
      "execution_count": 11,
      "outputs": [
        {
          "output_type": "execute_result",
          "data": {
            "text/plain": [
              "<matplotlib.legend.Legend at 0x785363f1bc40>"
            ]
          },
          "metadata": {},
          "execution_count": 11
        },
        {
          "output_type": "display_data",
          "data": {
            "text/plain": [
              "<Figure size 1200x800 with 1 Axes>"
            ],
            "image/png": "[encoded data removed]"
          },
          "metadata": {}
        }
      ]
    },
    {
      "cell_type": "code",
      "source": [
        "plt.figure(figsize=(12,8))\n",
        "plt.plot(history.history['loss'],'r',label='train loss')\n",
        "plt.plot(history.history['val_loss'],'b',label='test loss')\n",
        "plt.xlabel('Number of Epochs')\n",
        "plt.ylabel('Loss')\n",
        "plt.title('Loss Graph')\n",
        "plt.legend()"
      ],
      "metadata": {
        "colab": {
          "base_uri": "https://localhost:8080/",
          "height": 703
        },
        "id": "WUJKaQ-Ca7Zm",
        "outputId": "1a70ec4b-7812-4e6b-f857-81a3fdb99966"
      },
      "execution_count": 12,
      "outputs": [
        {
          "output_type": "execute_result",
          "data": {
            "text/plain": [
              "<matplotlib.legend.Legend at 0x78536a945330>"
            ]
          },
          "metadata": {},
          "execution_count": 12
        },
        {
          "output_type": "display_data",
          "data": {
            "text/plain": [
              "<Figure size 1200x800 with 1 Axes>"
            ],
            "image/png": "[encoded data removed]"
          },
          "metadata": {}
        }
      ]
    },
    {
      "cell_type": "code",
      "source": [
        "y_preds = model.predict(valid_batch)\n",
        "print(y_preds)"
      ],
      "metadata": {
        "colab": {
          "base_uri": "https://localhost:8080/"
        },
        "id": "SK6xP0oWcW2d",
        "outputId": "3a721bc9-6777-479a-8afa-587ddef77c60"
      },
      "execution_count": 15,
      "outputs": [
        {
          "output_type": "stream",
          "name": "stdout",
          "text": [
            "7/7 [==============================] - 1s 138ms/step\n",
            "[[1.00000000e+00 7.51973650e-10]\n",
            " [9.28061013e-13 1.00000000e+00]\n",
            " [9.44338274e-10 1.00000000e+00]\n",
            " [9.99999523e-01 5.14837552e-07]\n",
            " [3.12878541e-07 9.99999642e-01]\n",
            " [9.99977231e-01 2.27130386e-05]\n",
            " [9.99999642e-01 3.57885654e-07]\n",
            " [9.99986768e-01 1.32260147e-05]\n",
            " [3.07947019e-08 1.00000000e+00]\n",
            " [9.99879599e-01 1.20328048e-04]\n",
            " [2.90248008e-03 9.97097492e-01]\n",
            " [9.99999881e-01 1.27214292e-07]\n",
            " [1.00000000e+00 1.39886810e-10]\n",
            " [9.99556720e-01 4.43311204e-04]\n",
            " [5.78883958e-15 1.00000000e+00]\n",
            " [9.99998212e-01 1.79001813e-06]\n",
            " [9.99999762e-01 2.58357460e-07]\n",
            " [5.17753477e-04 9.99482274e-01]\n",
            " [9.99977708e-01 2.22719755e-05]\n",
            " [1.40429995e-06 9.99998569e-01]\n",
            " [2.57015720e-09 1.00000000e+00]\n",
            " [8.18767365e-09 1.00000000e+00]\n",
            " [3.13331559e-02 9.68666792e-01]\n",
            " [5.74577825e-06 9.99994278e-01]\n",
            " [9.99844432e-01 1.55529080e-04]\n",
            " [8.42433497e-26 1.00000000e+00]\n",
            " [8.20321441e-02 9.17967856e-01]\n",
            " [8.61005390e-07 9.99999166e-01]\n",
            " [7.44357333e-03 9.92556512e-01]\n",
            " [3.56999776e-13 1.00000000e+00]\n",
            " [3.29246545e-27 1.00000000e+00]\n",
            " [9.99998927e-01 1.07286348e-06]\n",
            " [1.71085030e-05 9.99982834e-01]\n",
            " [8.67050981e-22 1.00000000e+00]\n",
            " [9.99999881e-01 7.27866052e-08]\n",
            " [1.82317050e-10 1.00000000e+00]\n",
            " [5.63601943e-10 1.00000000e+00]\n",
            " [9.99968767e-01 3.12104530e-05]\n",
            " [1.00000000e+00 5.26860582e-08]\n",
            " [1.20938662e-22 1.00000000e+00]\n",
            " [4.52458080e-12 1.00000000e+00]\n",
            " [1.28871603e-16 1.00000000e+00]\n",
            " [9.98741567e-01 1.25844276e-03]\n",
            " [3.58155028e-21 1.00000000e+00]\n",
            " [1.00000000e+00 1.73745160e-08]\n",
            " [1.00000000e+00 5.72002934e-09]\n",
            " [1.40103725e-06 9.99998569e-01]\n",
            " [3.63667851e-07 9.99999642e-01]\n",
            " [1.00000000e+00 5.82936863e-08]\n",
            " [4.59920819e-04 9.99540091e-01]\n",
            " [9.99999046e-01 9.17161515e-07]\n",
            " [9.99999523e-01 5.04044522e-07]\n",
            " [6.02760767e-12 1.00000000e+00]\n",
            " [4.35264558e-01 5.64735472e-01]\n",
            " [8.20349300e-09 1.00000000e+00]\n",
            " [9.99980807e-01 1.91595173e-05]\n",
            " [9.99995589e-01 4.46290233e-06]\n",
            " [1.00000000e+00 5.22069721e-09]\n",
            " [1.57328602e-03 9.98426795e-01]\n",
            " [2.27620992e-26 1.00000000e+00]\n",
            " [9.99801099e-01 1.98891241e-04]\n",
            " [9.33795094e-01 6.62048683e-02]\n",
            " [1.00000000e+00 2.00564667e-08]\n",
            " [9.99988556e-01 1.14698505e-05]\n",
            " [2.85406401e-08 1.00000000e+00]\n",
            " [4.71377729e-11 1.00000000e+00]\n",
            " [1.00000000e+00 2.38200499e-08]\n",
            " [9.99999881e-01 1.65493759e-07]\n",
            " [7.39432338e-09 1.00000000e+00]\n",
            " [9.98859167e-01 1.14081393e-03]\n",
            " [1.89028564e-04 9.99810994e-01]\n",
            " [1.20046850e-09 1.00000000e+00]\n",
            " [1.10265347e-18 1.00000000e+00]\n",
            " [9.99999881e-01 1.65986918e-07]\n",
            " [1.91765701e-11 1.00000000e+00]\n",
            " [9.67858195e-01 3.21417786e-02]\n",
            " [9.53159511e-01 4.68405075e-02]\n",
            " [3.14729909e-09 1.00000000e+00]\n",
            " [9.99999523e-01 5.32346121e-07]\n",
            " [9.99999762e-01 1.93060259e-07]\n",
            " [6.97291017e-01 3.02709013e-01]\n",
            " [9.99839544e-01 1.60465337e-04]\n",
            " [9.99999881e-01 1.58305184e-07]\n",
            " [1.84372766e-08 1.00000000e+00]\n",
            " [1.47095642e-17 1.00000000e+00]\n",
            " [2.56307061e-07 9.99999762e-01]\n",
            " [1.32242112e-05 9.99986768e-01]\n",
            " [1.81282212e-06 9.99998212e-01]\n",
            " [9.03465152e-02 9.09653485e-01]\n",
            " [1.00000000e+00 2.52741161e-09]\n",
            " [4.88400230e-21 1.00000000e+00]\n",
            " [9.99994993e-01 5.05828484e-06]\n",
            " [3.48985148e-22 1.00000000e+00]\n",
            " [9.99784768e-01 2.15225649e-04]\n",
            " [9.99947190e-01 5.27722623e-05]\n",
            " [3.97488634e-07 9.99999642e-01]\n",
            " [9.99999523e-01 4.79627886e-07]\n",
            " [1.09140974e-09 1.00000000e+00]\n",
            " [9.99999523e-01 4.38320058e-07]\n",
            " [9.99994874e-01 5.16127329e-06]\n",
            " [7.10207612e-17 1.00000000e+00]\n",
            " [9.99999046e-01 9.64434776e-07]\n",
            " [9.95870650e-01 4.12932225e-03]\n",
            " [1.00000000e+00 1.13069127e-08]\n",
            " [9.99999642e-01 3.86555769e-07]\n",
            " [9.99999642e-01 3.94350252e-07]\n",
            " [9.99994993e-01 5.05340995e-06]\n",
            " [9.99998689e-01 1.30916010e-06]\n",
            " [1.00000000e+00 1.23982205e-11]\n",
            " [3.43700409e-01 6.56299651e-01]\n",
            " [1.12051663e-20 1.00000000e+00]\n",
            " [9.99998450e-01 1.56857243e-06]\n",
            " [9.99997377e-01 2.57996999e-06]\n",
            " [3.07335685e-11 1.00000000e+00]\n",
            " [2.26029899e-25 1.00000000e+00]\n",
            " [9.99490380e-01 5.09586651e-04]\n",
            " [9.99908924e-01 9.10482850e-05]\n",
            " [1.77165867e-12 1.00000000e+00]\n",
            " [6.16569221e-01 3.83430779e-01]\n",
            " [2.22287599e-06 9.99997735e-01]\n",
            " [9.99851108e-01 1.48831939e-04]\n",
            " [2.76298526e-15 1.00000000e+00]\n",
            " [4.15396328e-11 1.00000000e+00]\n",
            " [3.20624650e-07 9.99999642e-01]\n",
            " [9.99974012e-01 2.60316756e-05]\n",
            " [5.06991670e-17 1.00000000e+00]\n",
            " [9.99896169e-01 1.03785504e-04]\n",
            " [9.99870300e-01 1.29629727e-04]\n",
            " [1.95189287e-09 1.00000000e+00]\n",
            " [5.31476078e-12 1.00000000e+00]\n",
            " [1.00000000e+00 1.09245057e-10]\n",
            " [9.99997973e-01 1.97885538e-06]\n",
            " [2.15861413e-15 1.00000000e+00]\n",
            " [1.63504262e-11 1.00000000e+00]\n",
            " [2.23647253e-10 1.00000000e+00]\n",
            " [9.93656695e-01 6.34330837e-03]\n",
            " [1.00000000e+00 4.03430400e-09]\n",
            " [1.63848730e-04 9.99836087e-01]\n",
            " [3.87140750e-16 1.00000000e+00]\n",
            " [5.57598932e-11 1.00000000e+00]\n",
            " [2.61787508e-10 1.00000000e+00]\n",
            " [6.51359730e-11 1.00000000e+00]\n",
            " [9.99997735e-01 2.29901730e-06]\n",
            " [3.70517880e-13 1.00000000e+00]\n",
            " [6.56287014e-01 3.43712956e-01]\n",
            " [9.99996066e-01 3.98395241e-06]\n",
            " [9.90181088e-01 9.81896464e-03]\n",
            " [1.00000000e+00 4.37558034e-09]\n",
            " [9.99999762e-01 2.53123460e-07]\n",
            " [9.99998927e-01 1.08782422e-06]\n",
            " [9.98689115e-01 1.31084607e-03]\n",
            " [5.00303815e-17 1.00000000e+00]\n",
            " [9.99999404e-01 5.83535893e-07]\n",
            " [2.19085268e-06 9.99997854e-01]\n",
            " [1.42379522e-01 8.57620478e-01]\n",
            " [9.99999523e-01 4.97929022e-07]\n",
            " [9.99995947e-01 4.09631639e-06]\n",
            " [9.99998093e-01 1.88501667e-06]\n",
            " [9.80173081e-06 9.99990225e-01]\n",
            " [1.00000000e+00 7.19114235e-09]\n",
            " [1.52896533e-07 9.99999881e-01]\n",
            " [9.99994159e-01 5.87051863e-06]\n",
            " [9.99978065e-01 2.19023404e-05]\n",
            " [5.78336369e-07 9.99999404e-01]\n",
            " [1.00000000e+00 3.89929289e-09]\n",
            " [7.94845231e-11 1.00000000e+00]\n",
            " [7.08473921e-01 2.91526109e-01]\n",
            " [2.48028053e-04 9.99751985e-01]\n",
            " [9.99993563e-01 6.40067447e-06]\n",
            " [1.07558378e-17 1.00000000e+00]\n",
            " [5.44474227e-04 9.99455512e-01]\n",
            " [9.92958903e-01 7.04110553e-03]\n",
            " [1.00000000e+00 7.57394947e-09]\n",
            " [9.87775564e-01 1.22244405e-02]\n",
            " [1.39061766e-19 1.00000000e+00]\n",
            " [9.99995470e-01 4.51841652e-06]\n",
            " [9.18353498e-01 8.16465020e-02]\n",
            " [9.99261320e-01 7.38667848e-04]\n",
            " [9.41439526e-13 1.00000000e+00]\n",
            " [9.99999046e-01 1.00187083e-06]\n",
            " [1.87698038e-06 9.99998093e-01]\n",
            " [4.49700792e-06 9.99995470e-01]\n",
            " [4.10801498e-03 9.95891929e-01]\n",
            " [9.99996185e-01 3.78422783e-06]\n",
            " [8.72661471e-02 9.12733853e-01]\n",
            " [1.00000000e+00 1.98613193e-09]\n",
            " [1.00000000e+00 2.90270363e-09]\n",
            " [1.00000000e+00 1.76582308e-11]\n",
            " [9.97335732e-01 2.66422494e-03]\n",
            " [6.31480909e-11 1.00000000e+00]\n",
            " [9.96708512e-01 3.29143018e-03]\n",
            " [4.63748885e-13 1.00000000e+00]\n",
            " [7.68525297e-07 9.99999285e-01]\n",
            " [6.01749628e-09 1.00000000e+00]\n",
            " [9.99999642e-01 3.15294301e-07]\n",
            " [8.66326988e-01 1.33673027e-01]\n",
            " [4.14678278e-15 1.00000000e+00]\n",
            " [9.99998808e-01 1.21946528e-06]\n",
            " [9.78758097e-01 2.12419294e-02]\n",
            " [1.65896392e-06 9.99998331e-01]\n",
            " [9.84924495e-01 1.50754964e-02]\n",
            " [2.97118320e-12 1.00000000e+00]\n",
            " [1.12036114e-08 1.00000000e+00]\n",
            " [3.42672938e-21 1.00000000e+00]\n",
            " [1.00000000e+00 3.98701383e-09]\n",
            " [1.20307898e-13 1.00000000e+00]\n",
            " [2.74743829e-02 9.72525597e-01]\n",
            " [9.99993086e-01 6.96400957e-06]\n",
            " [9.99808252e-01 1.91755375e-04]\n",
            " [6.41637514e-13 1.00000000e+00]\n",
            " [1.00000000e+00 8.00686964e-14]\n",
            " [9.99994874e-01 5.13355735e-06]\n",
            " [9.99999881e-01 9.13535558e-08]\n",
            " [1.05412562e-11 1.00000000e+00]\n",
            " [4.27287227e-14 1.00000000e+00]\n",
            " [8.87398389e-24 1.00000000e+00]\n",
            " [1.03870916e-12 1.00000000e+00]\n",
            " [5.29330265e-16 1.00000000e+00]]\n"
          ]
        }
      ]
    },
    {
      "cell_type": "code",
      "source": [
        "res = model.evaluate(valid_batch)\n",
        "print(res)"
      ],
      "metadata": {
        "colab": {
          "base_uri": "https://localhost:8080/"
        },
        "id": "ry7SN3Qacg-6",
        "outputId": "2df1abcd-1b05-41ff-9973-5ed811cbf675"
      },
      "execution_count": 17,
      "outputs": [
        {
          "output_type": "stream",
          "name": "stdout",
          "text": [
            "7/7 [==============================] - 1s 87ms/step - loss: 0.0576 - accuracy: 0.9817\n",
            "[0.05755609646439552, 0.9816513657569885]\n"
          ]
        }
      ]
    },
    {
      "cell_type": "code",
      "source": [
        "max_indices = np.argmax(y_preds, axis=1)\n",
        "\n",
        "# Create a one-hot encoding matrix\n",
        "one_hot_matrix = np.zeros(y_preds.shape)\n",
        "one_hot_matrix[np.arange(len(max_indices)), max_indices] = 1\n",
        "\n",
        "print(one_hot_matrix)"
      ],
      "metadata": {
        "colab": {
          "base_uri": "https://localhost:8080/"
        },
        "id": "L-vVbxvpcw-D",
        "outputId": "3a07c77a-860f-409b-c219-68f65e332734"
      },
      "execution_count": 18,
      "outputs": [
        {
          "output_type": "stream",
          "name": "stdout",
          "text": [
            "[[1. 0.]\n",
            " [0. 1.]\n",
            " [0. 1.]\n",
            " [1. 0.]\n",
            " [0. 1.]\n",
            " [1. 0.]\n",
            " [1. 0.]\n",
            " [1. 0.]\n",
            " [0. 1.]\n",
            " [1. 0.]\n",
            " [0. 1.]\n",
            " [1. 0.]\n",
            " [1. 0.]\n",
            " [1. 0.]\n",
            " [0. 1.]\n",
            " [1. 0.]\n",
            " [1. 0.]\n",
            " [0. 1.]\n",
            " [1. 0.]\n",
            " [0. 1.]\n",
            " [0. 1.]\n",
            " [0. 1.]\n",
            " [0. 1.]\n",
            " [0. 1.]\n",
            " [1. 0.]\n",
            " [0. 1.]\n",
            " [0. 1.]\n",
            " [0. 1.]\n",
            " [0. 1.]\n",
            " [0. 1.]\n",
            " [0. 1.]\n",
            " [1. 0.]\n",
            " [0. 1.]\n",
            " [0. 1.]\n",
            " [1. 0.]\n",
            " [0. 1.]\n",
            " [0. 1.]\n",
            " [1. 0.]\n",
            " [1. 0.]\n",
            " [0. 1.]\n",
            " [0. 1.]\n",
            " [0. 1.]\n",
            " [1. 0.]\n",
            " [0. 1.]\n",
            " [1. 0.]\n",
            " [1. 0.]\n",
            " [0. 1.]\n",
            " [0. 1.]\n",
            " [1. 0.]\n",
            " [0. 1.]\n",
            " [1. 0.]\n",
            " [1. 0.]\n",
            " [0. 1.]\n",
            " [0. 1.]\n",
            " [0. 1.]\n",
            " [1. 0.]\n",
            " [1. 0.]\n",
            " [1. 0.]\n",
            " [0. 1.]\n",
            " [0. 1.]\n",
            " [1. 0.]\n",
            " [1. 0.]\n",
            " [1. 0.]\n",
            " [1. 0.]\n",
            " [0. 1.]\n",
            " [0. 1.]\n",
            " [1. 0.]\n",
            " [1. 0.]\n",
            " [0. 1.]\n",
            " [1. 0.]\n",
            " [0. 1.]\n",
            " [0. 1.]\n",
            " [0. 1.]\n",
            " [1. 0.]\n",
            " [0. 1.]\n",
            " [1. 0.]\n",
            " [1. 0.]\n",
            " [0. 1.]\n",
            " [1. 0.]\n",
            " [1. 0.]\n",
            " [1. 0.]\n",
            " [1. 0.]\n",
            " [1. 0.]\n",
            " [0. 1.]\n",
            " [0. 1.]\n",
            " [0. 1.]\n",
            " [0. 1.]\n",
            " [0. 1.]\n",
            " [0. 1.]\n",
            " [1. 0.]\n",
            " [0. 1.]\n",
            " [1. 0.]\n",
            " [0. 1.]\n",
            " [1. 0.]\n",
            " [1. 0.]\n",
            " [0. 1.]\n",
            " [1. 0.]\n",
            " [0. 1.]\n",
            " [1. 0.]\n",
            " [1. 0.]\n",
            " [0. 1.]\n",
            " [1. 0.]\n",
            " [1. 0.]\n",
            " [1. 0.]\n",
            " [1. 0.]\n",
            " [1. 0.]\n",
            " [1. 0.]\n",
            " [1. 0.]\n",
            " [1. 0.]\n",
            " [0. 1.]\n",
            " [0. 1.]\n",
            " [1. 0.]\n",
            " [1. 0.]\n",
            " [0. 1.]\n",
            " [0. 1.]\n",
            " [1. 0.]\n",
            " [1. 0.]\n",
            " [0. 1.]\n",
            " [1. 0.]\n",
            " [0. 1.]\n",
            " [1. 0.]\n",
            " [0. 1.]\n",
            " [0. 1.]\n",
            " [0. 1.]\n",
            " [1. 0.]\n",
            " [0. 1.]\n",
            " [1. 0.]\n",
            " [1. 0.]\n",
            " [0. 1.]\n",
            " [0. 1.]\n",
            " [1. 0.]\n",
            " [1. 0.]\n",
            " [0. 1.]\n",
            " [0. 1.]\n",
            " [0. 1.]\n",
            " [1. 0.]\n",
            " [1. 0.]\n",
            " [0. 1.]\n",
            " [0. 1.]\n",
            " [0. 1.]\n",
            " [0. 1.]\n",
            " [0. 1.]\n",
            " [1. 0.]\n",
            " [0. 1.]\n",
            " [1. 0.]\n",
            " [1. 0.]\n",
            " [1. 0.]\n",
            " [1. 0.]\n",
            " [1. 0.]\n",
            " [1. 0.]\n",
            " [1. 0.]\n",
            " [0. 1.]\n",
            " [1. 0.]\n",
            " [0. 1.]\n",
            " [0. 1.]\n",
            " [1. 0.]\n",
            " [1. 0.]\n",
            " [1. 0.]\n",
            " [0. 1.]\n",
            " [1. 0.]\n",
            " [0. 1.]\n",
            " [1. 0.]\n",
            " [1. 0.]\n",
            " [0. 1.]\n",
            " [1. 0.]\n",
            " [0. 1.]\n",
            " [1. 0.]\n",
            " [0. 1.]\n",
            " [1. 0.]\n",
            " [0. 1.]\n",
            " [0. 1.]\n",
            " [1. 0.]\n",
            " [1. 0.]\n",
            " [1. 0.]\n",
            " [0. 1.]\n",
            " [1. 0.]\n",
            " [1. 0.]\n",
            " [1. 0.]\n",
            " [0. 1.]\n",
            " [1. 0.]\n",
            " [0. 1.]\n",
            " [0. 1.]\n",
            " [0. 1.]\n",
            " [1. 0.]\n",
            " [0. 1.]\n",
            " [1. 0.]\n",
            " [1. 0.]\n",
            " [1. 0.]\n",
            " [1. 0.]\n",
            " [0. 1.]\n",
            " [1. 0.]\n",
            " [0. 1.]\n",
            " [0. 1.]\n",
            " [0. 1.]\n",
            " [1. 0.]\n",
            " [1. 0.]\n",
            " [0. 1.]\n",
            " [1. 0.]\n",
            " [1. 0.]\n",
            " [0. 1.]\n",
            " [1. 0.]\n",
            " [0. 1.]\n",
            " [0. 1.]\n",
            " [0. 1.]\n",
            " [1. 0.]\n",
            " [0. 1.]\n",
            " [0. 1.]\n",
            " [1. 0.]\n",
            " [1. 0.]\n",
            " [0. 1.]\n",
            " [1. 0.]\n",
            " [1. 0.]\n",
            " [1. 0.]\n",
            " [0. 1.]\n",
            " [0. 1.]\n",
            " [0. 1.]\n",
            " [0. 1.]\n",
            " [0. 1.]]\n"
          ]
        }
      ]
    },
    {
      "cell_type": "code",
      "source": [
        "model.save(\"cnnCat.keras\")"
      ],
      "metadata": {
        "id": "7c0hX-UMeGm2"
      },
      "execution_count": 21,
      "outputs": []
    },
    {
      "cell_type": "code",
      "source": [],
      "metadata": {
        "id": "Cpmy6hiPkm_f"
      },
      "execution_count": null,
      "outputs": []
    }
  ]
}